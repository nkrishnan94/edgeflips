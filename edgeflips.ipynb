{
 "cells": [
  {
   "cell_type": "markdown",
   "metadata": {},
   "source": [
    "### Prerequisites"
   ]
  },
  {
   "cell_type": "code",
   "execution_count": 4,
   "metadata": {},
   "outputs": [],
   "source": [
    "import matplotlib.pyplot as plt\n",
    "import numpy as np\n",
    "from matplotlib import cm\n",
    "import matplotlib as mpl\n",
    "import itertools\n",
    "import pandas as pd\n",
    "import seaborn as sns\n",
    "from markovModel import*"
   ]
  },
  {
   "cell_type": "code",
   "execution_count": 22,
   "metadata": {},
   "outputs": [],
   "source": [
    "#==============================================================================#\n",
    "# The landscapes reported by Mira et. al.\n",
    "#==============================================================================#\n",
    "MIRA_AMP = FitnessLandscape([1.851, 2.082, 1.948, 2.434, 2.024, 2.198, 2.033, 0.034, 1.57, 2.165, 0.051, 0.083, 2.186, 2.322, 0.088, 2.821], \"Ampicillin\")\n",
    "MIRA_AM  = FitnessLandscape([1.778, 1.782, 2.042, 1.752, 1.448, 1.544, 1.184, 0.063, 1.72, 2.008, 1.799, 2.005, 1.557, 2.247, 1.768, 2.047], \"Amoxicillin\")\n",
    "MIRA_CEC = FitnessLandscape([2.258, 1.996, 2.151, 2.648, 2.396, 1.846, 2.23, 0.214, 0.234, 0.172, 2.242, 0.093, 2.15, 0.095, 2.64, 0.516], \"Cefaclor\")\n",
    "MIRA_CTX = FitnessLandscape([0.16, 0.085, 1.936, 2.348, 1.653, 0.138, 2.295, 2.269, 0.185, 0.14, 1.969, 0.203, 0.225, 0.092, 0.119, 2.412], \"Cefotaxime\")\n",
    "MIRA_ZOX = FitnessLandscape([0.993, 0.805, 2.069, 2.683, 1.698, 2.01, 2.138, 2.688, 1.106, 1.171, 1.894, 0.681, 1.116, 1.105, 1.103, 2.591], \"Ceftizoxime\")\n",
    "MIRA_CXM = FitnessLandscape([1.748, 1.7, 2.07, 1.938, 2.94, 2.173, 2.918, 3.272, 0.423, 1.578, 1.911, 2.754, 2.024, 1.678, 1.591, 2.923], \"Cefuroxime\")\n",
    "MIRA_CRO = FitnessLandscape([1.092, 0.287, 2.554, 3.042, 2.88, 0.656, 2.732, 0.436, 0.83, 0.54, 3.173, 1.153, 1.407, 0.751, 2.74, 3.227], \"Ceftriaxone\")\n",
    "MIRA_AMC = FitnessLandscape([1.435, 1.573, 1.061, 1.457, 1.672, 1.625, 0.073, 0.068, 1.417, 1.351, 1.538, 1.59, 1.377, 1.914, 1.307, 1.728], \"Amoxicillin + Clav\")\n",
    "MIRA_CAZ = FitnessLandscape([2.134, 2.656, 2.618, 2.688, 2.042, 2.756, 2.924, 0.251, 0.288, 0.576, 1.604, 1.378, 2.63, 2.677, 2.893, 2.563], \"Ceftazidime\")\n",
    "MIRA_CTT = FitnessLandscape([2.125, 1.922, 2.804, 0.588, 3.291, 2.888, 3.082, 3.508, 3.238, 2.966, 2.883, 0.89, 0.546, 3.181, 3.193, 2.543], \"Cefotetan\")\n",
    "MIRA_SAM = FitnessLandscape([1.879, 2.533, 0.133, 0.094, 2.456, 2.437, 0.083, 0.094, 2.198, 2.57, 2.308, 2.886, 2.504, 3.002, 2.528, 3.453], \"Ampicillin +Sulbactam\")\n",
    "MIRA_CPR = FitnessLandscape([1.743, 1.662, 1.763, 1.785, 2.018, 2.05, 2.042, 0.218, 1.553, 0.256, 0.165, 0.221, 0.223, 0.239, 1.811, 0.288], \"Cefprozil\")\n",
    "MIRA_CPD = FitnessLandscape([0.595, 0.245, 2.604, 3.043, 1.761, 1.471, 2.91, 3.096, 0.432, 0.388, 2.651, 1.103, 0.638, 0.986, 0.963, 3.268], \"Cefpodoxime\")\n",
    "MIRA_TZP = FitnessLandscape([2.679, 2.906, 2.427, 0.141, 3.038, 3.309, 2.528, 0.143, 2.709, 2.5, 0.172, 0.093, 2.453, 2.739, 0.609, 0.171], \"Piperacillin + Tazobactam\")\n",
    "MIRA_FEP = FitnessLandscape([2.59, 2.572, 2.393, 2.832, 2.44, 2.808, 2.652, 0.611, 2.067, 2.446, 2.957, 2.633, 2.735, 2.863, 2.796, 3.203], \"Cefepime\")\n",
    "\n",
    "\n",
    "\n",
    "landscapes = [MIRA_AMP, MIRA_AM, MIRA_CEC, MIRA_CTX, MIRA_ZOX, MIRA_CXM, MIRA_CRO, MIRA_AMC, MIRA_CAZ, MIRA_CTT, MIRA_SAM, MIRA_CPR, MIRA_CPD, MIRA_TZP, MIRA_FEP]\n",
    "names = ['AMP','AM','CEC','CTX','ZOX','CXM','CRO','AMC','CAZ', 'CTT','SAM','CPR','CPD','TZP','FEP']"
   ]
  },
  {
   "cell_type": "code",
   "execution_count": 42,
   "metadata": {},
   "outputs": [],
   "source": [
    "abxDicts = [{'Name':'Ampicillin','Class':'Penicillin','Abreviation':'AMP'},\n",
    "            {'Name':'Amoxicillin','Class':'Penicillin','Abreviation':'AM'},\n",
    "           {'Name':'Cefaclor','Class':'Cephalosporin','Abreviation':'CEC'},\n",
    "            {'Name':'Cefotaxime','Class':'Cephalosporin','Abreviation':'CTX'},\n",
    "            {'Name':'Cefuroxime','Class':'Cephalosporin','Abreviation':'CXM'}\n",
    "           {'Name':'Cefuroxime','Class':'Cephalosporin','Abreviation':'CXM'}]"
   ]
  },
  {
   "cell_type": "code",
   "execution_count": 43,
   "metadata": {},
   "outputs": [
    {
     "data": {
      "text/plain": [
       "[{'Name': 'Ampicillin', 'Class': 'Penicillin', 'Abreviation': 'AMP'},\n",
       " {'Name': 'Amoxicillin', 'Class': 'Penicillin', 'Abreviation': 'AM'},\n",
       " {'Name': 'Cefaclor', 'Class': 'Cephalosporin', 'Abreviation': 'AM'}]"
      ]
     },
     "execution_count": 43,
     "metadata": {},
     "output_type": "execute_result"
    }
   ],
   "source": [
    "abxDicts"
   ]
  },
  {
   "cell_type": "code",
   "execution_count": 23,
   "metadata": {},
   "outputs": [],
   "source": [
    "\n",
    "flipMatrix=np.zeros((len(landscapes),len(landscapes)))\n",
    "for i,l1 in enumerate(landscapes):\n",
    "    for j,l2 in enumerate(landscapes):\n",
    "        #Build transition matrices\n",
    "        p1=buildTransitionMatrix(l1)\n",
    "        p2=buildTransitionMatrix(l2)\n",
    "        diff = np.sum(np.abs(edgeFlips(p1,p2)/2))\n",
    "        flipMatrix[i,j]= diff\n",
    "        "
   ]
  },
  {
   "cell_type": "code",
   "execution_count": 38,
   "metadata": {},
   "outputs": [
    {
     "data": {
      "text/plain": [
       "<seaborn.matrix.ClusterGrid at 0x7fec1ad25730>"
      ]
     },
     "execution_count": 38,
     "metadata": {},
     "output_type": "execute_result"
    },
    {
     "data": {
      "image/png": "[encoded data removed]",
      "text/plain": [
       "<Figure size 720x720 with 4 Axes>"
      ]
     },
     "metadata": {
      "needs_background": "light"
     },
     "output_type": "display_data"
    }
   ],
   "source": [
    "df = pd.DataFrame(data=flipMatrix,columns = names,index=names)\n",
    "sns.clustermap(df)\n",
    "#ax.set_xticklabels(names,fontsize=15,rotation=90)\n",
    "#ax.set_yticklabels(names,fontsize=15,rotation = 360)\n",
    "#ax.collections[0].colorbar.set_label(\"Edge flips\",fontsize=16)"
   ]
  },
  {
   "cell_type": "code",
   "execution_count": 32,
   "metadata": {},
   "outputs": [],
   "source": [
    "df = pd.DataFrame(data=flipMatrix,columns = names)"
   ]
  },
  {
   "cell_type": "code",
   "execution_count": null,
   "metadata": {},
   "outputs": [],
   "source": []
  }
 ],
 "metadata": {
  "kernelspec": {
   "display_name": "Python 3",
   "language": "python",
   "name": "python3"
  },
  "language_info": {
   "codemirror_mode": {
    "name": "ipython",
    "version": 3
   },
   "file_extension": ".py",
   "mimetype": "text/x-python",
   "name": "python",
   "nbconvert_exporter": "python",
   "pygments_lexer": "ipython3",
   "version": "3.8.3"
  }
 },
 "nbformat": 4,
 "nbformat_minor": 4
}

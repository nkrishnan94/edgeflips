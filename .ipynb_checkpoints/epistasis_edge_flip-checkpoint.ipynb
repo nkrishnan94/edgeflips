{
 "cells": [
  {
   "cell_type": "markdown",
   "metadata": {},
   "source": [
    "### prequisites"
   ]
  },
  {
   "cell_type": "code",
   "execution_count": 155,
   "metadata": {},
   "outputs": [],
   "source": [
    "import matplotlib.pyplot as plt\n",
    "import numpy as np\n",
    "from matplotlib import cm\n",
    "import matplotlib as mpl\n",
    "import itertools\n",
    "import pandas as pdd\n",
    "import seaborn as sns\n",
    "from markovModel import*\n",
    "import networkx as nx\n",
    "from scipy import stats\n",
    "import pandas as pd"
   ]
  },
  {
   "cell_type": "code",
   "execution_count": 156,
   "metadata": {},
   "outputs": [],
   "source": [
    "a = np.random.random((2,2))"
   ]
  },
  {
   "cell_type": "code",
   "execution_count": 185,
   "metadata": {},
   "outputs": [],
   "source": [
    "def sqRotate(sq):\n",
    "    rots = 0\n",
    "    while sq[1,1] !=np.max(sq):\n",
    "        \n",
    "        sq = sq[:,[1,0]].T\n",
    "        rots+=1\n",
    "        \n",
    "    return sq,rots\n",
    "\n",
    "def findEpi(sqFL):\n",
    "    epi = np.argwhere(np.argsort(sqFL.flatten())==0)[0][0]\n",
    "\n",
    "        \n",
    "    return epi"
   ]
  },
  {
   "cell_type": "code",
   "execution_count": 324,
   "metadata": {},
   "outputs": [],
   "source": [
    "fcycles = np.zeros((24,4,4))\n",
    "fcycles[:,0,:] = [0,0,0,0]\n",
    "\n",
    "cnt=0\n",
    "for i in range(4):\n",
    "     \n",
    "    #cnt+=1\n",
    "    \n",
    "    for j in range(i,4):\n",
    "        if i!=j:\n",
    "            fcycles[cnt,[1,3],i] =1\n",
    "            fcycles[cnt,2:,j] =1 \n",
    "            cnt+=1\n",
    "            \n"
   ]
  },
  {
   "cell_type": "code",
   "execution_count": 325,
   "metadata": {},
   "outputs": [],
   "source": [
    "\n",
    "cnt=6\n",
    "for i in range(4):\n",
    "    \n",
    "\n",
    "    \n",
    "    for j in range(4):\n",
    "\n",
    "        for k in range(j,4):\n",
    "            if i!=j and j!=k and i != k:\n",
    "\n",
    "                fcycles[cnt,:,i] =1\n",
    "                fcycles[cnt,[1,3],j] =1\n",
    "                fcycles[cnt,2:,k] =1 \n",
    "                cnt+=1\n"
   ]
  },
  {
   "cell_type": "code",
   "execution_count": 326,
   "metadata": {},
   "outputs": [],
   "source": [
    "cnt= 18\n",
    "for i in range(4):\n",
    "    for j in range(i,4):\n",
    "    \n",
    "\n",
    "    \n",
    "        for k in range(4):\n",
    "            #cnt+=1\n",
    "\n",
    "            for l in range(k,4):\n",
    "                if  i!=j and j!=k and i != k and k!=l and j!=l and i !=l:\n",
    "\n",
    "                    fcycles[cnt,:,i] =1\n",
    "                    fcycles[cnt,:,j] =1\n",
    "                    fcycles[cnt,[1,3],k] =1\n",
    "                    fcycles[cnt,2:,l] =1 \n",
    "                    cnt+=1\n",
    "\n"
   ]
  },
  {
   "cell_type": "code",
   "execution_count": 328,
   "metadata": {},
   "outputs": [],
   "source": [
    "fcycleInt = np.zeros((24,4))"
   ]
  },
  {
   "cell_type": "code",
   "execution_count": 329,
   "metadata": {},
   "outputs": [],
   "source": [
    "for i in range(24):\n",
    "    for j in range(4):\n",
    "        fcycleInt[i,j]=convertGenotypeToInt(fcycles[i,j].astype(int))\n",
    "        "
   ]
  },
  {
   "cell_type": "code",
   "execution_count": 330,
   "metadata": {},
   "outputs": [
    {
     "data": {
      "text/plain": [
       "array([[ 0.,  8.,  4., 12.],\n",
       "       [ 0.,  8.,  2., 10.],\n",
       "       [ 0.,  8.,  1.,  9.],\n",
       "       [ 0.,  4.,  2.,  6.],\n",
       "       [ 0.,  4.,  1.,  5.],\n",
       "       [ 0.,  2.,  1.,  3.],\n",
       "       [ 8., 12., 10., 14.],\n",
       "       [ 8., 12.,  9., 13.],\n",
       "       [ 8., 10.,  9., 11.],\n",
       "       [ 4., 12.,  6., 14.],\n",
       "       [ 4., 12.,  5., 13.],\n",
       "       [ 4.,  6.,  5.,  7.],\n",
       "       [ 2., 10.,  6., 14.],\n",
       "       [ 2., 10.,  3., 11.],\n",
       "       [ 2.,  6.,  3.,  7.],\n",
       "       [ 1.,  9.,  5., 13.],\n",
       "       [ 1.,  9.,  3., 11.],\n",
       "       [ 1.,  5.,  3.,  7.],\n",
       "       [12., 14., 13., 15.],\n",
       "       [10., 14., 11., 15.],\n",
       "       [ 9., 13., 11., 15.],\n",
       "       [ 6., 14.,  7., 15.],\n",
       "       [ 5., 13.,  7., 15.],\n",
       "       [ 3., 11.,  7., 15.]])"
      ]
     },
     "execution_count": 330,
     "metadata": {},
     "output_type": "execute_result"
    }
   ],
   "source": [
    "fcycleInt"
   ]
  },
  {
   "cell_type": "code",
   "execution_count": 370,
   "metadata": {},
   "outputs": [],
   "source": [
    "epis_AMP=[]\n",
    "rot_AMP=[]\n",
    "for fcyc in np.array(MIRA_AMP.landscape)[fcycleInt.astype(int)]:\n",
    "    epis_AMP.append(findEpi(sqRotate(fcyc.reshape(2,2))[0]))\n",
    "    rot_AMP.append(sqRotate(fcyc.reshape(2,2))[1])"
   ]
  },
  {
   "cell_type": "code",
   "execution_count": 371,
   "metadata": {},
   "outputs": [],
   "source": [
    "epis_AM=[]\n",
    "rot_AM=[]\n",
    "for fcyc in np.array(MIRA_AM.landscape)[fcycleInt.astype(int)]:\n",
    "    epis_AM.append(findEpi(sqRotate(fcyc.reshape(2,2))[0]))\n",
    "    rot_AM.append(sqRotate(fcyc.reshape(2,2))[1])"
   ]
  },
  {
   "cell_type": "code",
   "execution_count": 372,
   "metadata": {},
   "outputs": [
    {
     "data": {
      "text/plain": [
       "array([[ 0.,  8.,  4., 12.],\n",
       "       [ 0.,  8.,  2., 10.],\n",
       "       [ 0.,  8.,  1.,  9.],\n",
       "       [ 0.,  4.,  2.,  6.],\n",
       "       [ 0.,  4.,  1.,  5.],\n",
       "       [ 0.,  2.,  1.,  3.],\n",
       "       [ 8., 12., 10., 14.],\n",
       "       [ 8., 12.,  9., 13.],\n",
       "       [ 8., 10.,  9., 11.],\n",
       "       [ 4., 12.,  6., 14.],\n",
       "       [ 4., 12.,  5., 13.],\n",
       "       [ 4.,  6.,  5.,  7.],\n",
       "       [ 2., 10.,  6., 14.],\n",
       "       [ 2., 10.,  3., 11.],\n",
       "       [ 2.,  6.,  3.,  7.],\n",
       "       [ 1.,  9.,  5., 13.],\n",
       "       [ 1.,  9.,  3., 11.],\n",
       "       [ 1.,  5.,  3.,  7.],\n",
       "       [12., 14., 13., 15.],\n",
       "       [10., 14., 11., 15.],\n",
       "       [ 9., 13., 11., 15.],\n",
       "       [ 6., 14.,  7., 15.],\n",
       "       [ 5., 13.,  7., 15.],\n",
       "       [ 3., 11.,  7., 15.]])"
      ]
     },
     "execution_count": 372,
     "metadata": {},
     "output_type": "execute_result"
    }
   ],
   "source": [
    "fcycleInt"
   ]
  },
  {
   "cell_type": "code",
   "execution_count": 417,
   "metadata": {},
   "outputs": [
    {
     "data": {
      "text/plain": [
       "[1, 1, 1, 0, 0, 0, 0, 0, 0, 2, 0, 2, 0, 0, 2, 0, 2, 2, 1, 0, 1, 2, 1, 2]"
      ]
     },
     "execution_count": 417,
     "metadata": {},
     "output_type": "execute_result"
    }
   ],
   "source": [
    "epis_AMP"
   ]
  },
  {
   "cell_type": "code",
   "execution_count": 374,
   "metadata": {},
   "outputs": [
    {
     "data": {
      "text/plain": [
       "[1, 0, 1, 1, 0, 2, 0, 1, 1, 1, 0, 1, 1, 2, 0, 1, 0, 0, 1, 1, 0, 1, 0, 1]"
      ]
     },
     "execution_count": 374,
     "metadata": {},
     "output_type": "execute_result"
    }
   ],
   "source": [
    "epis_AM"
   ]
  },
  {
   "cell_type": "code",
   "execution_count": 376,
   "metadata": {},
   "outputs": [
    {
     "data": {
      "text/plain": [
       "[0, 1, 0, 0, 0, 0, 3, 0, 1, 3, 0, 1, 1, 1, 1, 0, 1, 1, 0, 0, 0, 0, 0, 0]"
      ]
     },
     "execution_count": 376,
     "metadata": {},
     "output_type": "execute_result"
    }
   ],
   "source": [
    "rot_AMP"
   ]
  },
  {
   "cell_type": "code",
   "execution_count": 377,
   "metadata": {},
   "outputs": [
    {
     "data": {
      "text/plain": [
       "[2, 1, 0, 1, 1, 3, 1, 0, 1, 0, 0, 1, 2, 2, 2, 0, 3, 2, 1, 0, 3, 0, 3, 0]"
      ]
     },
     "execution_count": 377,
     "metadata": {},
     "output_type": "execute_result"
    }
   ],
   "source": [
    "rot_AM"
   ]
  },
  {
   "cell_type": "code",
   "execution_count": 407,
   "metadata": {},
   "outputs": [
    {
     "data": {
      "text/plain": [
       "array([2, 0, 0, 1, 1, 3, 2, 0, 0, 3, 0, 0, 1, 1, 1, 0, 2, 1, 1, 0, 3, 0,\n",
       "       3, 0])"
      ]
     },
     "execution_count": 407,
     "metadata": {},
     "output_type": "execute_result"
    }
   ],
   "source": [
    "np.abs(np.array(rot_AMP)-np.array(rot_AM))"
   ]
  },
  {
   "cell_type": "code",
   "execution_count": 375,
   "metadata": {},
   "outputs": [
    {
     "data": {
      "text/plain": [
       "[0, 1, 0, 0, 0, 0, 3, 0, 1, 3, 0, 1, 1, 1, 1, 0, 1, 1, 0, 0, 0, 0, 0, 0]"
      ]
     },
     "execution_count": 375,
     "metadata": {},
     "output_type": "execute_result"
    }
   ],
   "source": [
    "np.sum(np.abs(np.array(epis_AMP)-np.array(epis_AM)))"
   ]
  },
  {
   "cell_type": "code",
   "execution_count": 360,
   "metadata": {},
   "outputs": [],
   "source": [
    "p1= buildTransitionMatrix(MIRA_AMP)\n",
    "p2= buildTransitionMatrix(MIRA_AM)"
   ]
  },
  {
   "cell_type": "code",
   "execution_count": 364,
   "metadata": {},
   "outputs": [
    {
     "data": {
      "text/plain": [
       "26.0"
      ]
     },
     "execution_count": 364,
     "metadata": {},
     "output_type": "execute_result"
    }
   ],
   "source": [
    "np.sum(np.abs(edgeFlips(p1,p2)))"
   ]
  },
  {
   "cell_type": "code",
   "execution_count": 391,
   "metadata": {},
   "outputs": [
    {
     "data": {
      "text/plain": [
       "(array([[0.051, 1.57 ],\n",
       "        [0.088, 2.186]]),\n",
       " 3)"
      ]
     },
     "execution_count": 391,
     "metadata": {},
     "output_type": "execute_result"
    }
   ],
   "source": [
    "sqRotate(np.array(MIRA_AMP.landscape)[fcycleInt.astype(int)][5].reshape(2,2))"
   ]
  },
  {
   "cell_type": "code",
   "execution_count": 413,
   "metadata": {},
   "outputs": [
    {
     "data": {
      "text/plain": [
       "[<matplotlib.lines.Line2D at 0x7ffc313b1d90>]"
      ]
     },
     "execution_count": 413,
     "metadata": {},
     "output_type": "execute_result"
    },
    {
     "data": {
      "image/png": "[encoded data removed]",
      "text/plain": [
       "<Figure size 432x288 with 1 Axes>"
      ]
     },
     "metadata": {
      "needs_background": "light"
     },
     "output_type": "display_data"
    }
   ],
   "source": [
    "plt.plot(np.array(MIRA_AMP.landscape)[fcycleInt.astype(int)][22])"
   ]
  },
  {
   "cell_type": "code",
   "execution_count": 414,
   "metadata": {},
   "outputs": [
    {
     "data": {
      "text/plain": [
       "[<matplotlib.lines.Line2D at 0x7ffc313ca8e0>]"
      ]
     },
     "execution_count": 414,
     "metadata": {},
     "output_type": "execute_result"
    },
    {
     "data": {
      "image/png": "[encoded data removed]",
      "text/plain": [
       "<Figure size 432x288 with 1 Axes>"
      ]
     },
     "metadata": {
      "needs_background": "light"
     },
     "output_type": "display_data"
    }
   ],
   "source": [
    "plt.plot(np.array(MIRA_AM.landscape)[fcycleInt.astype(int)][22])"
   ]
  },
  {
   "cell_type": "code",
   "execution_count": 404,
   "metadata": {},
   "outputs": [
    {
     "data": {
      "text/plain": [
       "array([1.948, 0.051, 2.033, 0.088])"
      ]
     },
     "execution_count": 404,
     "metadata": {},
     "output_type": "execute_result"
    }
   ],
   "source": [
    "np.array(MIRA_AMP.landscape)[fcycleInt.astype(int)][12]"
   ]
  },
  {
   "cell_type": "code",
   "execution_count": 303,
   "metadata": {},
   "outputs": [],
   "source": [
    "#==============================================================================#\n",
    "# The landscapes reported by Mira et. al.\n",
    "#==============================================================================#\n",
    "MIRA_AMP = FitnessLandscape([1.851, 2.082, 1.948, 2.434, 2.024, 2.198, 2.033, 0.034, 1.57, 2.165, 0.051, 0.083, 2.186, 2.322, 0.088, 2.821], \"Ampicillin\")\n",
    "MIRA_AM  = FitnessLandscape([1.778, 1.782, 2.042, 1.752, 1.448, 1.544, 1.184, 0.063, 1.72, 2.008, 1.799, 2.005, 1.557, 2.247, 1.768, 2.047], \"Amoxicillin\")\n",
    "MIRA_CEC = FitnessLandscape([2.258, 1.996, 2.151, 2.648, 2.396, 1.846, 2.23, 0.214, 0.234, 0.172, 2.242, 0.093, 2.15, 0.095, 2.64, 0.516], \"Cefaclor\")\n",
    "MIRA_CTX = FitnessLandscape([0.16, 0.085, 1.936, 2.348, 1.653, 0.138, 2.295, 2.269, 0.185, 0.14, 1.969, 0.203, 0.225, 0.092, 0.119, 2.412], \"Cefotaxime\")\n",
    "MIRA_ZOX = FitnessLandscape([0.993, 0.805, 2.069, 2.683, 1.698, 2.01, 2.138, 2.688, 1.106, 1.171, 1.894, 0.681, 1.116, 1.105, 1.103, 2.591], \"Ceftizoxime\")\n",
    "MIRA_CXM = FitnessLandscape([1.748, 1.7, 2.07, 1.938, 2.94, 2.173, 2.918, 3.272, 0.423, 1.578, 1.911, 2.754, 2.024, 1.678, 1.591, 2.923], \"Cefuroxime\")\n",
    "MIRA_CRO = FitnessLandscape([1.092, 0.287, 2.554, 3.042, 2.88, 0.656, 2.732, 0.436, 0.83, 0.54, 3.173, 1.153, 1.407, 0.751, 2.74, 3.227], \"Ceftriaxone\")\n",
    "MIRA_AMC = FitnessLandscape([1.435, 1.573, 1.061, 1.457, 1.672, 1.625, 0.073, 0.068, 1.417, 1.351, 1.538, 1.59, 1.377, 1.914, 1.307, 1.728], \"Amoxicillin + Clav\")\n",
    "MIRA_CAZ = FitnessLandscape([2.134, 2.656, 2.618, 2.688, 2.042, 2.756, 2.924, 0.251, 0.288, 0.576, 1.604, 1.378, 2.63, 2.677, 2.893, 2.563], \"Ceftazidime\")\n",
    "MIRA_CTT = FitnessLandscape([2.125, 1.922, 2.804, 0.588, 3.291, 2.888, 3.082, 3.508, 3.238, 2.966, 2.883, 0.89, 0.546, 3.181, 3.193, 2.543], \"Cefotetan\")\n",
    "MIRA_SAM = FitnessLandscape([1.879, 2.533, 0.133, 0.094, 2.456, 2.437, 0.083, 0.094, 2.198, 2.57, 2.308, 2.886, 2.504, 3.002, 2.528, 3.453], \"Ampicillin +Sulbactam\")\n",
    "MIRA_CPR = FitnessLandscape([1.743, 1.662, 1.763, 1.785, 2.018, 2.05, 2.042, 0.218, 1.553, 0.256, 0.165, 0.221, 0.223, 0.239, 1.811, 0.288], \"Cefprozil\")\n",
    "MIRA_CPD = FitnessLandscape([0.595, 0.245, 2.604, 3.043, 1.761, 1.471, 2.91, 3.096, 0.432, 0.388, 2.651, 1.103, 0.638, 0.986, 0.963, 3.268], \"Cefpodoxime\")\n",
    "MIRA_TZP = FitnessLandscape([2.679, 2.906, 2.427, 0.141, 3.038, 3.309, 2.528, 0.143, 2.709, 2.5, 0.172, 0.093, 2.453, 2.739, 0.609, 0.171], \"Piperacillin + Tazobactam\")\n",
    "MIRA_FEP = FitnessLandscape([2.59, 2.572, 2.393, 2.832, 2.44, 2.808, 2.652, 0.611, 2.067, 2.446, 2.957, 2.633, 2.735, 2.863, 2.796, 3.203], \"Cefepime\")\n",
    "\n",
    "\n",
    "\n",
    "landscapes = [MIRA_AMP, MIRA_AM, MIRA_CEC, MIRA_CTX, MIRA_ZOX, MIRA_CXM, MIRA_CRO, MIRA_AMC, MIRA_CAZ, MIRA_CTT, MIRA_SAM, MIRA_CPR, MIRA_CPD, MIRA_TZP, MIRA_FEP]\n",
    "names = ['AMP','AM','CEC','CTX','ZOX','CXM','CRO','AMC','CAZ', 'CTT','SAM','CPR','CPD','TZP','FEP']"
   ]
  },
  {
   "cell_type": "code",
   "execution_count": 305,
   "metadata": {},
   "outputs": [
    {
     "data": {
      "text/plain": [
       "[1.851,\n",
       " 2.082,\n",
       " 1.948,\n",
       " 2.434,\n",
       " 2.024,\n",
       " 2.198,\n",
       " 2.033,\n",
       " 0.034,\n",
       " 1.57,\n",
       " 2.165,\n",
       " 0.051,\n",
       " 0.083,\n",
       " 2.186,\n",
       " 2.322,\n",
       " 0.088,\n",
       " 2.821]"
      ]
     },
     "execution_count": 305,
     "metadata": {},
     "output_type": "execute_result"
    }
   ],
   "source": [
    "MIRA_AMP.landscape"
   ]
  },
  {
   "cell_type": "code",
   "execution_count": null,
   "metadata": {},
   "outputs": [],
   "source": []
  }
 ],
 "metadata": {
  "kernelspec": {
   "display_name": "Python 3",
   "language": "python",
   "name": "python3"
  },
  "language_info": {
   "codemirror_mode": {
    "name": "ipython",
    "version": 3
   },
   "file_extension": ".py",
   "mimetype": "text/x-python",
   "name": "python",
   "nbconvert_exporter": "python",
   "pygments_lexer": "ipython3",
   "version": "3.8.3"
  }
 },
 "nbformat": 4,
 "nbformat_minor": 4
}
